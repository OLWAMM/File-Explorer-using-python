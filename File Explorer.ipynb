{
 "cells": [
  {
   "cell_type": "code",
   "execution_count": 3,
   "id": "96c61058-6f06-4832-acd6-798f6512bc71",
   "metadata": {},
   "outputs": [],
   "source": [
    "import os, shutil"
   ]
  },
  {
   "cell_type": "code",
   "execution_count": 20,
   "id": "54e6584b-964d-4735-986b-4fb0d5dc02e6",
   "metadata": {},
   "outputs": [],
   "source": [
    "path = r'C:/Users/User/Documents/data analysis/'\n"
   ]
  },
  {
   "cell_type": "code",
   "execution_count": 22,
   "id": "a3580ad8-6050-4b13-977e-b69d9c4283d6",
   "metadata": {},
   "outputs": [],
   "source": [
    "file_name = os.listdir(path)"
   ]
  },
  {
   "cell_type": "code",
   "execution_count": 21,
   "id": "f080e2f3-5195-45e9-979b-726745bd794b",
   "metadata": {},
   "outputs": [
    {
     "name": "stdout",
     "output_type": "stream",
     "text": [
      "C:/Users/User/Documents/data analysis/csv files\n",
      "C:/Users/User/Documents/data analysis/ image files\n",
      "C:/Users/User/Documents/data analysis/text files\n"
     ]
    }
   ],
   "source": [
    "folder_names = ['csv files',' image files','text files']\n",
    "\n",
    "for loop in range(0,3):\n",
    "    if not os.path.exists(path+ folder_names[loop]):\n",
    "        print(path + folder_names[loop])\n",
    "        os.makedirs(path + folder_names[loop])"
   ]
  },
  {
   "cell_type": "code",
   "execution_count": 43,
   "id": "e9fc03f2-4774-4240-adeb-3583241786d2",
   "metadata": {},
   "outputs": [
    {
     "ename": "IndentationError",
     "evalue": "unindent does not match any outer indentation level (<string>, line 4)",
     "output_type": "error",
     "traceback": [
      "\u001b[1;36m  File \u001b[1;32m<string>:4\u001b[1;36m\u001b[0m\n\u001b[1;33m    elif \".jpg\" in file and not os.path.exists(path + \" image files/\" + file):\u001b[0m\n\u001b[1;37m                                                                              ^\u001b[0m\n\u001b[1;31mIndentationError\u001b[0m\u001b[1;31m:\u001b[0m unindent does not match any outer indentation level\n"
     ]
    }
   ],
   "source": [
    "for file in file_name:\n",
    "      if \".csv\" in file and not os.path.exists(path + \"csv files/\" + file):\n",
    "        shutil.move(path + file, path + 'csv files/' + file)\n",
    "    elif \".jpg\" in file and not os.path.exists(path + \" image files/\" + file):\n",
    "        shutil.move(path + file, path + \" image files/\" + file)\n",
    "    elif \".txt\" in file and not os.path.exists(path + \"text files/\" + file):\n",
    "        shutil.move(path + file, path + \"text files/\" + file)"
   ]
  },
  {
   "cell_type": "code",
   "execution_count": 46,
   "id": "7643b3e7-a733-40c0-83b5-64101924d913",
   "metadata": {},
   "outputs": [],
   "source": [
    "for file in file_name:\n",
    "    source_file = os.path.join(path, file)\n",
    "    if os.path.isfile(source_file):  # Check if it's a file\n",
    "        if file.endswith(\".csv\") and not os.path.exists(os.path.join(path, \"csv files\", file)):\n",
    "            shutil.move(source_file, os.path.join(path, \"csv files\", file))\n",
    "        elif file.endswith(\".jpg\") and not os.path.exists(os.path.join(path, \"image files\", file)):\n",
    "            shutil.move(source_file, os.path.join(path, \" image files\", file))\n",
    "        elif file.endswith(\".txt\") and not os.path.exists(os.path.join(path, \"text files\", file)):\n",
    "            shutil.move(source_file, os.path.join(path, \"text files\", file))"
   ]
  },
  {
   "cell_type": "code",
   "execution_count": null,
   "id": "ea676fcf-2878-4ac9-a5a5-a5a7b187c58f",
   "metadata": {},
   "outputs": [],
   "source": []
  }
 ],
 "metadata": {
  "kernelspec": {
   "display_name": "Python 3 (ipykernel)",
   "language": "python",
   "name": "python3"
  },
  "language_info": {
   "codemirror_mode": {
    "name": "ipython",
    "version": 3
   },
   "file_extension": ".py",
   "mimetype": "text/x-python",
   "name": "python",
   "nbconvert_exporter": "python",
   "pygments_lexer": "ipython3",
   "version": "3.12.7"
  }
 },
 "nbformat": 4,
 "nbformat_minor": 5
}
